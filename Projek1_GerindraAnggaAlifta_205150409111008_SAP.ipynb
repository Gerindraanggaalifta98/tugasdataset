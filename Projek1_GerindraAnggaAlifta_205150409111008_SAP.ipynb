{
  "nbformat": 4,
  "nbformat_minor": 0,
  "metadata": {
    "colab": {
      "name": "Projek1_GerindraAnggaAlifta_205150409111008_SAP.ipynb",
      "provenance": [],
      "collapsed_sections": [],
      "authorship_tag": "ABX9TyN6ByhLOKRRylXzXQOvB4dU",
      "include_colab_link": true
    },
    "kernelspec": {
      "name": "python3",
      "display_name": "Python 3"
    }
  },
  "cells": [
    {
      "cell_type": "markdown",
      "metadata": {
        "id": "view-in-github",
        "colab_type": "text"
      },
      "source": [
        "<a href=\"https://colab.research.google.com/github/Gerindraanggaalifta98/tugasdataset/blob/main/Projek1_GerindraAnggaAlifta_205150409111008_SAP.ipynb\" target=\"_parent\"><img src=\"https://colab.research.google.com/assets/colab-badge.svg\" alt=\"Open In Colab\"/></a>"
      ]
    },
    {
      "cell_type": "code",
      "metadata": {
        "colab": {
          "base_uri": "https://localhost:8080/"
        },
        "id": "vG_SLNVHKkEl",
        "outputId": "00c134ed-6cad-4df4-b813-c29446b96044"
      },
      "source": [
        "import pandas as pd\n",
        "from google.colab import drive\n",
        "drive.mount ('/content/drive')"
      ],
      "execution_count": null,
      "outputs": [
        {
          "output_type": "stream",
          "text": [
            "Mounted at /content/drive\n"
          ],
          "name": "stdout"
        }
      ]
    },
    {
      "cell_type": "code",
      "metadata": {
        "colab": {
          "base_uri": "https://localhost:8080/",
          "height": 564
        },
        "id": "siKGHNhHKzl_",
        "outputId": "93d6ba55-c546-4680-c9d2-f9c9aace1c18"
      },
      "source": [
        "import pandas as pd\n",
        "df = pd.read_csv('/content/drive/MyDrive/Colab Notebooks/cars_validate_new.csv')\n",
        "df.head()"
      ],
      "execution_count": null,
      "outputs": [
        {
          "output_type": "execute_result",
          "data": {
            "text/html": [
              "<div>\n",
              "<style scoped>\n",
              "    .dataframe tbody tr th:only-of-type {\n",
              "        vertical-align: middle;\n",
              "    }\n",
              "\n",
              "    .dataframe tbody tr th {\n",
              "        vertical-align: top;\n",
              "    }\n",
              "\n",
              "    .dataframe thead th {\n",
              "        text-align: right;\n",
              "    }\n",
              "</style>\n",
              "<table border=\"1\" class=\"dataframe\">\n",
              "  <thead>\n",
              "    <tr style=\"text-align: right;\">\n",
              "      <th></th>\n",
              "      <th>id</th>\n",
              "      <th>title</th>\n",
              "      <th>band</th>\n",
              "      <th>model</th>\n",
              "      <th>variant</th>\n",
              "      <th>fuelType</th>\n",
              "      <th>bodytype</th>\n",
              "      <th>tramsmission</th>\n",
              "      <th>seating</th>\n",
              "      <th>year</th>\n",
              "      <th>milage</th>\n",
              "      <th>color</th>\n",
              "      <th>image</th>\n",
              "      <th>place</th>\n",
              "      <th>price</th>\n",
              "    </tr>\n",
              "  </thead>\n",
              "  <tbody>\n",
              "    <tr>\n",
              "      <th>0</th>\n",
              "      <td>41256</td>\n",
              "      <td>2012 Toyota Avanza 1.3 G MPV</td>\n",
              "      <td>Toyota</td>\n",
              "      <td>Avanza</td>\n",
              "      <td>G</td>\n",
              "      <td>Pertamax</td>\n",
              "      <td>MPV</td>\n",
              "      <td>Automatic</td>\n",
              "      <td>7</td>\n",
              "      <td>2012</td>\n",
              "      <td>62500</td>\n",
              "      <td>Hitam</td>\n",
              "      <td>https://img1.icarcdn.com/8419806/thumb-l_used-...</td>\n",
              "      <td>Jakarta Selatan</td>\n",
              "      <td>112000000</td>\n",
              "    </tr>\n",
              "    <tr>\n",
              "      <th>1</th>\n",
              "      <td>5637</td>\n",
              "      <td>2014 Honda Mobilio 1.5 E Prestige MPV</td>\n",
              "      <td>Honda</td>\n",
              "      <td>Mobilio</td>\n",
              "      <td>E Prestige</td>\n",
              "      <td>Pertamax</td>\n",
              "      <td>MPV</td>\n",
              "      <td>Automatic</td>\n",
              "      <td>7</td>\n",
              "      <td>2014</td>\n",
              "      <td>70000</td>\n",
              "      <td>Putih</td>\n",
              "      <td>https://img5.icarcdn.com/0798656/thumb-l_used-...</td>\n",
              "      <td>Makasar</td>\n",
              "      <td>135000000</td>\n",
              "    </tr>\n",
              "    <tr>\n",
              "      <th>2</th>\n",
              "      <td>61059</td>\n",
              "      <td>2014 Ford EcoSport 1.5 Titanium SUV</td>\n",
              "      <td>Ford</td>\n",
              "      <td>EcoSport</td>\n",
              "      <td>Titanium</td>\n",
              "      <td>Pertamax</td>\n",
              "      <td>SUV</td>\n",
              "      <td>Automatic</td>\n",
              "      <td>5</td>\n",
              "      <td>2014</td>\n",
              "      <td>108000</td>\n",
              "      <td>Silver</td>\n",
              "      <td>https://img4.icarcdn.com/3308465/thumb-l_used-...</td>\n",
              "      <td>Bekasi</td>\n",
              "      <td>133000000</td>\n",
              "    </tr>\n",
              "    <tr>\n",
              "      <th>3</th>\n",
              "      <td>75984</td>\n",
              "      <td>2007 Toyota Kijang Innova 2.0 E MPV</td>\n",
              "      <td>Toyota</td>\n",
              "      <td>Kijang Innova</td>\n",
              "      <td>E</td>\n",
              "      <td>Pertamax</td>\n",
              "      <td>MPV</td>\n",
              "      <td>Manual</td>\n",
              "      <td>8</td>\n",
              "      <td>2007</td>\n",
              "      <td>46000</td>\n",
              "      <td>Hitam</td>\n",
              "      <td>https://img1.icarcdn.com/9066856/thumb-l_used-...</td>\n",
              "      <td>Jakarta Barat</td>\n",
              "      <td>98000000</td>\n",
              "    </tr>\n",
              "    <tr>\n",
              "      <th>4</th>\n",
              "      <td>35687</td>\n",
              "      <td>2017 Daihatsu Ayla 1.0 X Hatchback</td>\n",
              "      <td>Daihatsu</td>\n",
              "      <td>Ayla</td>\n",
              "      <td>X</td>\n",
              "      <td>Pertamax</td>\n",
              "      <td>Hatchback</td>\n",
              "      <td>Manual</td>\n",
              "      <td>5</td>\n",
              "      <td>2017</td>\n",
              "      <td>45000</td>\n",
              "      <td>Merah</td>\n",
              "      <td>https://img1.icarcdn.com/5359506/thumb-l_used-...</td>\n",
              "      <td>Surabaya</td>\n",
              "      <td>110000000</td>\n",
              "    </tr>\n",
              "  </tbody>\n",
              "</table>\n",
              "</div>"
            ],
            "text/plain": [
              "      id                                  title  ...            place      price\n",
              "0  41256           2012 Toyota Avanza 1.3 G MPV  ...  Jakarta Selatan  112000000\n",
              "1   5637  2014 Honda Mobilio 1.5 E Prestige MPV  ...          Makasar  135000000\n",
              "2  61059    2014 Ford EcoSport 1.5 Titanium SUV  ...           Bekasi  133000000\n",
              "3  75984    2007 Toyota Kijang Innova 2.0 E MPV  ...    Jakarta Barat   98000000\n",
              "4  35687     2017 Daihatsu Ayla 1.0 X Hatchback  ...         Surabaya  110000000\n",
              "\n",
              "[5 rows x 15 columns]"
            ]
          },
          "metadata": {
            "tags": []
          },
          "execution_count": 3
        }
      ]
    },
    {
      "cell_type": "code",
      "metadata": {
        "colab": {
          "base_uri": "https://localhost:8080/"
        },
        "id": "ry0LXslcLHY7",
        "outputId": "4f5abc61-dccf-4346-b273-c762fbb9ec93"
      },
      "source": [
        "pip install matplotlib"
      ],
      "execution_count": null,
      "outputs": [
        {
          "output_type": "stream",
          "text": [
            "Requirement already satisfied: matplotlib in /usr/local/lib/python3.6/dist-packages (3.2.2)\n",
            "Requirement already satisfied: numpy>=1.11 in /usr/local/lib/python3.6/dist-packages (from matplotlib) (1.18.5)\n",
            "Requirement already satisfied: kiwisolver>=1.0.1 in /usr/local/lib/python3.6/dist-packages (from matplotlib) (1.3.1)\n",
            "Requirement already satisfied: python-dateutil>=2.1 in /usr/local/lib/python3.6/dist-packages (from matplotlib) (2.8.1)\n",
            "Requirement already satisfied: cycler>=0.10 in /usr/local/lib/python3.6/dist-packages (from matplotlib) (0.10.0)\n",
            "Requirement already satisfied: pyparsing!=2.0.4,!=2.1.2,!=2.1.6,>=2.0.1 in /usr/local/lib/python3.6/dist-packages (from matplotlib) (2.4.7)\n",
            "Requirement already satisfied: six>=1.5 in /usr/local/lib/python3.6/dist-packages (from python-dateutil>=2.1->matplotlib) (1.15.0)\n"
          ],
          "name": "stdout"
        }
      ]
    },
    {
      "cell_type": "code",
      "metadata": {
        "id": "VGgvC_SMLSXr"
      },
      "source": [
        "import matplotlib.pyplot as plt"
      ],
      "execution_count": null,
      "outputs": []
    },
    {
      "cell_type": "code",
      "metadata": {
        "colab": {
          "base_uri": "https://localhost:8080/",
          "height": 295
        },
        "id": "DK0TKE4RLVRf",
        "outputId": "71130a27-3bcf-42de-eef8-2a9e93327f8a"
      },
      "source": [
        "import matplotlib.pyplot as plt\n",
        "import pandas as pd\n",
        "df=pd.read_csv(\"/content/drive/MyDrive/Colab Notebooks/cars_validate_new.csv\")\n",
        "\n",
        "#Plots in matplotlib reside within a figure\n",
        "\n",
        "fig=plt.figure()\n",
        "\n",
        "\n",
        "ax = fig.add_subplot(1,1,1)\n",
        "\n",
        "#Variable\n",
        "ax.hist(df['title'],bins = 10)\n",
        "#Labels and Tit\n",
        "plt.title('title From band')\n",
        "plt.xlabel('title')\n",
        "plt.ylabel('Jumlah title')\n",
        "plt.show()"
      ],
      "execution_count": null,
      "outputs": [
        {
          "output_type": "display_data",
          "data": {
            "image/png": "[encoded data removed]",
            "text/plain": [
              "<Figure size 432x288 with 1 Axes>"
            ]
          },
          "metadata": {
            "tags": [],
            "needs_background": "light"
          }
        }
      ]
    },
    {
      "cell_type": "code",
      "metadata": {
        "colab": {
          "base_uri": "https://localhost:8080/",
          "height": 295
        },
        "id": "LgNVEzWzLvKk",
        "outputId": "bb6d4ff4-bff0-4dd5-844c-251aa9b67b53"
      },
      "source": [
        "fig=plt.figure()\n",
        "\n",
        "ax = fig.add_subplot(1,1,1)\n",
        "\n",
        "ax.scatter(df['title'],df['band'])\n",
        "\n",
        "plt.title('title dan band distribution')\n",
        "plt.xlabel('title')\n",
        "plt.ylabel('band')\n",
        "plt.show()"
      ],
      "execution_count": null,
      "outputs": [
        {
          "output_type": "display_data",
          "data": {
            "image/png": "[encoded data removed]",
            "text/plain": [
              "<Figure size 432x288 with 1 Axes>"
            ]
          },
          "metadata": {
            "tags": [],
            "needs_background": "light"
          }
        }
      ]
    },
    {
      "cell_type": "code",
      "metadata": {
        "colab": {
          "base_uri": "https://localhost:8080/",
          "height": 333
        },
        "id": "Yn_wqyy9MBq_",
        "outputId": "f0a9b4f0-0a2e-4618-888c-cb13681a93f9"
      },
      "source": [
        "import seaborn as sns\n",
        "sns.boxplot(df['milage'])\n",
        "sns.despine()"
      ],
      "execution_count": null,
      "outputs": [
        {
          "output_type": "stream",
          "text": [
            "/usr/local/lib/python3.6/dist-packages/seaborn/_decorators.py:43: FutureWarning: Pass the following variable as a keyword arg: x. From version 0.12, the only valid positional argument will be `data`, and passing other arguments without an explicit keyword will result in an error or misinterpretation.\n",
            "  FutureWarning\n"
          ],
          "name": "stderr"
        },
        {
          "output_type": "display_data",
          "data": {
            "image/png": "[encoded data removed]",
            "text/plain": [
              "<Figure size 432x288 with 1 Axes>"
            ]
          },
          "metadata": {
            "tags": [],
            "needs_background": "light"
          }
        }
      ]
    },
    {
      "cell_type": "code",
      "metadata": {
        "colab": {
          "base_uri": "https://localhost:8080/"
        },
        "id": "X3x5rucFMhw3",
        "outputId": "f285f30d-39c8-4805-dc16-0d104e1c4e32"
      },
      "source": [
        "import pandas as pd\n",
        "df=pd.read_csv(\"/content/drive/MyDrive/Colab Notebooks/cars_validate_new.csv\")\n",
        "print (df)\n",
        "test= df.groupby(['band','milage'])\n",
        "test.size()"
      ],
      "execution_count": null,
      "outputs": [
        {
          "output_type": "stream",
          "text": [
            "         id  ...       price\n",
            "0     41256  ...   112000000\n",
            "1      5637  ...   135000000\n",
            "2     61059  ...   133000000\n",
            "3     75984  ...    98000000\n",
            "4     35687  ...   110000000\n",
            "...     ...  ...         ...\n",
            "5580  56388  ...   242000000\n",
            "5581  16471  ...  1450000000\n",
            "5582  10803  ...   147000000\n",
            "5583  14175  ...   119000000\n",
            "5584  45854  ...   140000000\n",
            "\n",
            "[5585 rows x 15 columns]\n"
          ],
          "name": "stdout"
        },
        {
          "output_type": "execute_result",
          "data": {
            "text/plain": [
              "band    milage\n",
              "Audi    9000      1\n",
              "        15000     3\n",
              "        22000     1\n",
              "        27500     2\n",
              "        29000     1\n",
              "                 ..\n",
              "Wuling  33000     1\n",
              "        43000     1\n",
              "smart   19000     1\n",
              "        25000     1\n",
              "        60000     1\n",
              "Length: 1708, dtype: int64"
            ]
          },
          "metadata": {
            "tags": []
          },
          "execution_count": 35
        }
      ]
    },
    {
      "cell_type": "code",
      "metadata": {
        "id": "G2yxXKRsMvJy"
      },
      "source": [
        ""
      ],
      "execution_count": null,
      "outputs": []
    }
  ]
}